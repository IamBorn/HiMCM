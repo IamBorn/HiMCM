{
 "cells": [
  {
   "cell_type": "code",
   "execution_count": 34,
   "id": "67eae7e5",
   "metadata": {},
   "outputs": [
    {
     "name": "stderr",
     "output_type": "stream",
     "text": [
      "C:\\Users\\thanw\\AppData\\Local\\Temp\\ipykernel_16876\\3035684640.py:2: FutureWarning: The pandas.datetime class is deprecated and will be removed from pandas in a future version. Import from datetime module instead.\n",
      "  from pandas import datetime\n"
     ]
    }
   ],
   "source": [
    "import pandas as pd\n",
    "from pandas import datetime\n",
    "from pandas import DataFrame\n",
    "import matplotlib.pyplot as plt\n",
    "from statsmodels.tsa.arima.model import ARIMA"
   ]
  },
  {
   "cell_type": "code",
   "execution_count": 35,
   "id": "50190641",
   "metadata": {},
   "outputs": [
    {
     "name": "stderr",
     "output_type": "stream",
     "text": [
      "C:\\Users\\thanw\\AppData\\Local\\Temp\\ipykernel_16876\\522550685.py:3: FutureWarning: The squeeze argument has been deprecated and will be removed in a future version. Append .squeeze(\"columns\") to the call to squeeze.\n",
      "\n",
      "\n",
      "  df = pd.read_csv('2022_HiMCM_Data.csv', header=0, index_col=0, parse_dates=True, squeeze=True, date_parser=parser)\n"
     ]
    },
    {
     "data": {
      "text/html": [
       "<div>\n",
       "<style scoped>\n",
       "    .dataframe tbody tr th:only-of-type {\n",
       "        vertical-align: middle;\n",
       "    }\n",
       "\n",
       "    .dataframe tbody tr th {\n",
       "        vertical-align: top;\n",
       "    }\n",
       "\n",
       "    .dataframe thead th {\n",
       "        text-align: right;\n",
       "    }\n",
       "</style>\n",
       "<table border=\"1\" class=\"dataframe\">\n",
       "  <thead>\n",
       "    <tr style=\"text-align: right;\">\n",
       "      <th></th>\n",
       "      <th>PPM</th>\n",
       "    </tr>\n",
       "    <tr>\n",
       "      <th>Year</th>\n",
       "      <th></th>\n",
       "    </tr>\n",
       "  </thead>\n",
       "  <tbody>\n",
       "    <tr>\n",
       "      <th>1959-01-01</th>\n",
       "      <td>315.98</td>\n",
       "    </tr>\n",
       "    <tr>\n",
       "      <th>1960-01-01</th>\n",
       "      <td>316.91</td>\n",
       "    </tr>\n",
       "    <tr>\n",
       "      <th>1961-01-01</th>\n",
       "      <td>317.64</td>\n",
       "    </tr>\n",
       "    <tr>\n",
       "      <th>1962-01-01</th>\n",
       "      <td>318.45</td>\n",
       "    </tr>\n",
       "    <tr>\n",
       "      <th>1963-01-01</th>\n",
       "      <td>318.99</td>\n",
       "    </tr>\n",
       "    <tr>\n",
       "      <th>...</th>\n",
       "      <td>...</td>\n",
       "    </tr>\n",
       "    <tr>\n",
       "      <th>2017-01-01</th>\n",
       "      <td>406.76</td>\n",
       "    </tr>\n",
       "    <tr>\n",
       "      <th>2018-01-01</th>\n",
       "      <td>408.72</td>\n",
       "    </tr>\n",
       "    <tr>\n",
       "      <th>2019-01-01</th>\n",
       "      <td>411.66</td>\n",
       "    </tr>\n",
       "    <tr>\n",
       "      <th>2020-01-01</th>\n",
       "      <td>414.24</td>\n",
       "    </tr>\n",
       "    <tr>\n",
       "      <th>2021-01-01</th>\n",
       "      <td>416.45</td>\n",
       "    </tr>\n",
       "  </tbody>\n",
       "</table>\n",
       "<p>63 rows × 1 columns</p>\n",
       "</div>"
      ],
      "text/plain": [
       "               PPM\n",
       "Year              \n",
       "1959-01-01  315.98\n",
       "1960-01-01  316.91\n",
       "1961-01-01  317.64\n",
       "1962-01-01  318.45\n",
       "1963-01-01  318.99\n",
       "...            ...\n",
       "2017-01-01  406.76\n",
       "2018-01-01  408.72\n",
       "2019-01-01  411.66\n",
       "2020-01-01  414.24\n",
       "2021-01-01  416.45\n",
       "\n",
       "[63 rows x 1 columns]"
      ]
     },
     "execution_count": 35,
     "metadata": {},
     "output_type": "execute_result"
    }
   ],
   "source": [
    "def parser(x):\n",
    "    return datetime.strptime(x, '%Y')\n",
    "df = pd.read_csv('2022_HiMCM_Data.csv', header=0, index_col=0, parse_dates=True, squeeze=True, date_parser=parser)\n",
    "df = df.iloc[:, :1]\n",
    "df"
   ]
  },
  {
   "cell_type": "code",
   "execution_count": 36,
   "id": "b8546a33",
   "metadata": {},
   "outputs": [],
   "source": [
    "train = df['PPM'].iloc[:50]\n",
    "test = df['PPM'].iloc[50:]"
   ]
  },
  {
   "cell_type": "code",
   "execution_count": 37,
   "id": "35ddf6cb",
   "metadata": {},
   "outputs": [
    {
     "data": {
      "text/plain": [
       "<BarContainer object of 16 artists>"
      ]
     },
     "execution_count": 37,
     "metadata": {},
     "output_type": "execute_result"
    },
    {
     "data": {
      "image/png": "[encoded data removed]",
      "text/plain": [
       "<Figure size 432x288 with 1 Axes>"
      ]
     },
     "metadata": {
      "needs_background": "light"
     },
     "output_type": "display_data"
    }
   ],
   "source": [
    "from statsmodels.tsa.stattools import acf\n",
    "acf_vals = acf(train)\n",
    "num_lags = 16\n",
    "plt.bar(range(num_lags), acf_vals[:num_lags])"
   ]
  },
  {
   "cell_type": "code",
   "execution_count": 38,
   "id": "780f873e",
   "metadata": {},
   "outputs": [
    {
     "name": "stdout",
     "output_type": "stream",
     "text": [
      "Performing stepwise search to minimize aic\n",
      " ARIMA(2,2,2)(0,0,0)[0]             : AIC=92.395, Time=0.03 sec\n",
      " ARIMA(0,2,0)(0,0,0)[0]             : AIC=118.907, Time=0.00 sec\n",
      " ARIMA(1,2,0)(0,0,0)[0]             : AIC=111.563, Time=0.01 sec\n",
      " ARIMA(0,2,1)(0,0,0)[0]             : AIC=91.956, Time=0.01 sec\n",
      " ARIMA(1,2,1)(0,0,0)[0]             : AIC=93.952, Time=0.02 sec\n",
      " ARIMA(0,2,2)(0,0,0)[0]             : AIC=93.945, Time=0.02 sec\n",
      " ARIMA(1,2,2)(0,0,0)[0]             : AIC=94.080, Time=0.05 sec\n",
      " ARIMA(0,2,1)(0,0,0)[0] intercept   : AIC=inf, Time=0.05 sec\n",
      "\n",
      "Best model:  ARIMA(0,2,1)(0,0,0)[0]          \n",
      "Total fit time: 0.196 seconds\n"
     ]
    },
    {
     "data": {
      "text/html": [
       "<table class=\"simpletable\">\n",
       "<caption>SARIMAX Results</caption>\n",
       "<tr>\n",
       "  <th>Dep. Variable:</th>           <td>y</td>        <th>  No. Observations:  </th>   <td>63</td>   \n",
       "</tr>\n",
       "<tr>\n",
       "  <th>Model:</th>           <td>SARIMAX(0, 2, 1)</td> <th>  Log Likelihood     </th> <td>-43.978</td>\n",
       "</tr>\n",
       "<tr>\n",
       "  <th>Date:</th>            <td>Sun, 13 Nov 2022</td> <th>  AIC                </th> <td>91.956</td> \n",
       "</tr>\n",
       "<tr>\n",
       "  <th>Time:</th>                <td>20:35:33</td>     <th>  BIC                </th> <td>96.177</td> \n",
       "</tr>\n",
       "<tr>\n",
       "  <th>Sample:</th>                  <td>0</td>        <th>  HQIC               </th> <td>93.610</td> \n",
       "</tr>\n",
       "<tr>\n",
       "  <th></th>                       <td> - 63</td>      <th>                     </th>    <td> </td>   \n",
       "</tr>\n",
       "<tr>\n",
       "  <th>Covariance Type:</th>        <td>opg</td>       <th>                     </th>    <td> </td>   \n",
       "</tr>\n",
       "</table>\n",
       "<table class=\"simpletable\">\n",
       "<tr>\n",
       "     <td></td>       <th>coef</th>     <th>std err</th>      <th>z</th>      <th>P>|z|</th>  <th>[0.025</th>    <th>0.975]</th>  \n",
       "</tr>\n",
       "<tr>\n",
       "  <th>ma.L1</th>  <td>   -0.7778</td> <td>    0.106</td> <td>   -7.327</td> <td> 0.000</td> <td>   -0.986</td> <td>   -0.570</td>\n",
       "</tr>\n",
       "<tr>\n",
       "  <th>sigma2</th> <td>    0.2439</td> <td>    0.038</td> <td>    6.353</td> <td> 0.000</td> <td>    0.169</td> <td>    0.319</td>\n",
       "</tr>\n",
       "</table>\n",
       "<table class=\"simpletable\">\n",
       "<tr>\n",
       "  <th>Ljung-Box (L1) (Q):</th>     <td>0.45</td> <th>  Jarque-Bera (JB):  </th> <td>5.17</td>\n",
       "</tr>\n",
       "<tr>\n",
       "  <th>Prob(Q):</th>                <td>0.50</td> <th>  Prob(JB):          </th> <td>0.08</td>\n",
       "</tr>\n",
       "<tr>\n",
       "  <th>Heteroskedasticity (H):</th> <td>0.90</td> <th>  Skew:              </th> <td>0.70</td>\n",
       "</tr>\n",
       "<tr>\n",
       "  <th>Prob(H) (two-sided):</th>    <td>0.82</td> <th>  Kurtosis:          </th> <td>3.24</td>\n",
       "</tr>\n",
       "</table><br/><br/>Warnings:<br/>[1] Covariance matrix calculated using the outer product of gradients (complex-step)."
      ],
      "text/plain": [
       "<class 'statsmodels.iolib.summary.Summary'>\n",
       "\"\"\"\n",
       "                               SARIMAX Results                                \n",
       "==============================================================================\n",
       "Dep. Variable:                      y   No. Observations:                   63\n",
       "Model:               SARIMAX(0, 2, 1)   Log Likelihood                 -43.978\n",
       "Date:                Sun, 13 Nov 2022   AIC                             91.956\n",
       "Time:                        20:35:33   BIC                             96.177\n",
       "Sample:                             0   HQIC                            93.610\n",
       "                                 - 63                                         \n",
       "Covariance Type:                  opg                                         \n",
       "==============================================================================\n",
       "                 coef    std err          z      P>|z|      [0.025      0.975]\n",
       "------------------------------------------------------------------------------\n",
       "ma.L1         -0.7778      0.106     -7.327      0.000      -0.986      -0.570\n",
       "sigma2         0.2439      0.038      6.353      0.000       0.169       0.319\n",
       "===================================================================================\n",
       "Ljung-Box (L1) (Q):                   0.45   Jarque-Bera (JB):                 5.17\n",
       "Prob(Q):                              0.50   Prob(JB):                         0.08\n",
       "Heteroskedasticity (H):               0.90   Skew:                             0.70\n",
       "Prob(H) (two-sided):                  0.82   Kurtosis:                         3.24\n",
       "===================================================================================\n",
       "\n",
       "Warnings:\n",
       "[1] Covariance matrix calculated using the outer product of gradients (complex-step).\n",
       "\"\"\""
      ]
     },
     "execution_count": 38,
     "metadata": {},
     "output_type": "execute_result"
    }
   ],
   "source": [
    "from pmdarima import auto_arima\n",
    "\n",
    "stepwise_fit = auto_arima(df['PPM'], trace=True, suppress_warning=True)\n",
    "stepwise_fit.summary()"
   ]
  },
  {
   "cell_type": "code",
   "execution_count": 39,
   "id": "2bbe6d79",
   "metadata": {},
   "outputs": [
    {
     "name": "stderr",
     "output_type": "stream",
     "text": [
      "C:\\Users\\thanw\\anaconda3\\lib\\site-packages\\statsmodels\\tsa\\base\\tsa_model.py:471: ValueWarning: No frequency information was provided, so inferred frequency AS-JAN will be used.\n",
      "  self._init_dates(dates, freq)\n",
      "C:\\Users\\thanw\\anaconda3\\lib\\site-packages\\statsmodels\\tsa\\base\\tsa_model.py:471: ValueWarning: No frequency information was provided, so inferred frequency AS-JAN will be used.\n",
      "  self._init_dates(dates, freq)\n",
      "C:\\Users\\thanw\\anaconda3\\lib\\site-packages\\statsmodels\\tsa\\base\\tsa_model.py:471: ValueWarning: No frequency information was provided, so inferred frequency AS-JAN will be used.\n",
      "  self._init_dates(dates, freq)\n"
     ]
    },
    {
     "data": {
      "text/html": [
       "<table class=\"simpletable\">\n",
       "<caption>SARIMAX Results</caption>\n",
       "<tr>\n",
       "  <th>Dep. Variable:</th>          <td>PPM</td>       <th>  No. Observations:  </th>   <td>50</td>   \n",
       "</tr>\n",
       "<tr>\n",
       "  <th>Model:</th>            <td>ARIMA(0, 2, 1)</td>  <th>  Log Likelihood     </th> <td>-34.778</td>\n",
       "</tr>\n",
       "<tr>\n",
       "  <th>Date:</th>            <td>Sun, 13 Nov 2022</td> <th>  AIC                </th> <td>73.557</td> \n",
       "</tr>\n",
       "<tr>\n",
       "  <th>Time:</th>                <td>20:35:36</td>     <th>  BIC                </th> <td>77.299</td> \n",
       "</tr>\n",
       "<tr>\n",
       "  <th>Sample:</th>             <td>01-01-1959</td>    <th>  HQIC               </th> <td>74.971</td> \n",
       "</tr>\n",
       "<tr>\n",
       "  <th></th>                   <td>- 01-01-2008</td>   <th>                     </th>    <td> </td>   \n",
       "</tr>\n",
       "<tr>\n",
       "  <th>Covariance Type:</th>        <td>opg</td>       <th>                     </th>    <td> </td>   \n",
       "</tr>\n",
       "</table>\n",
       "<table class=\"simpletable\">\n",
       "<tr>\n",
       "     <td></td>       <th>coef</th>     <th>std err</th>      <th>z</th>      <th>P>|z|</th>  <th>[0.025</th>    <th>0.975]</th>  \n",
       "</tr>\n",
       "<tr>\n",
       "  <th>ma.L1</th>  <td>   -0.7860</td> <td>    0.115</td> <td>   -6.842</td> <td> 0.000</td> <td>   -1.011</td> <td>   -0.561</td>\n",
       "</tr>\n",
       "<tr>\n",
       "  <th>sigma2</th> <td>    0.2444</td> <td>    0.042</td> <td>    5.783</td> <td> 0.000</td> <td>    0.162</td> <td>    0.327</td>\n",
       "</tr>\n",
       "</table>\n",
       "<table class=\"simpletable\">\n",
       "<tr>\n",
       "  <th>Ljung-Box (L1) (Q):</th>     <td>0.05</td> <th>  Jarque-Bera (JB):  </th> <td>3.95</td>\n",
       "</tr>\n",
       "<tr>\n",
       "  <th>Prob(Q):</th>                <td>0.82</td> <th>  Prob(JB):          </th> <td>0.14</td>\n",
       "</tr>\n",
       "<tr>\n",
       "  <th>Heteroskedasticity (H):</th> <td>1.48</td> <th>  Skew:              </th> <td>0.68</td>\n",
       "</tr>\n",
       "<tr>\n",
       "  <th>Prob(H) (two-sided):</th>    <td>0.44</td> <th>  Kurtosis:          </th> <td>3.33</td>\n",
       "</tr>\n",
       "</table><br/><br/>Warnings:<br/>[1] Covariance matrix calculated using the outer product of gradients (complex-step)."
      ],
      "text/plain": [
       "<class 'statsmodels.iolib.summary.Summary'>\n",
       "\"\"\"\n",
       "                               SARIMAX Results                                \n",
       "==============================================================================\n",
       "Dep. Variable:                    PPM   No. Observations:                   50\n",
       "Model:                 ARIMA(0, 2, 1)   Log Likelihood                 -34.778\n",
       "Date:                Sun, 13 Nov 2022   AIC                             73.557\n",
       "Time:                        20:35:36   BIC                             77.299\n",
       "Sample:                    01-01-1959   HQIC                            74.971\n",
       "                         - 01-01-2008                                         \n",
       "Covariance Type:                  opg                                         \n",
       "==============================================================================\n",
       "                 coef    std err          z      P>|z|      [0.025      0.975]\n",
       "------------------------------------------------------------------------------\n",
       "ma.L1         -0.7860      0.115     -6.842      0.000      -1.011      -0.561\n",
       "sigma2         0.2444      0.042      5.783      0.000       0.162       0.327\n",
       "===================================================================================\n",
       "Ljung-Box (L1) (Q):                   0.05   Jarque-Bera (JB):                 3.95\n",
       "Prob(Q):                              0.82   Prob(JB):                         0.14\n",
       "Heteroskedasticity (H):               1.48   Skew:                             0.68\n",
       "Prob(H) (two-sided):                  0.44   Kurtosis:                         3.33\n",
       "===================================================================================\n",
       "\n",
       "Warnings:\n",
       "[1] Covariance matrix calculated using the outer product of gradients (complex-step).\n",
       "\"\"\""
      ]
     },
     "execution_count": 39,
     "metadata": {},
     "output_type": "execute_result"
    }
   ],
   "source": [
    "model = ARIMA(train, order=(0,2,1))\n",
    "model = model.fit()\n",
    "model.summary()"
   ]
  },
  {
   "cell_type": "code",
   "execution_count": 40,
   "id": "86275fe4",
   "metadata": {},
   "outputs": [
    {
     "name": "stdout",
     "output_type": "stream",
     "text": [
      "predicted=387.769921, expected=387.640000\n",
      "predicted=389.551783, expected=390.100000\n",
      "predicted=392.130144, expected=391.850000\n",
      "predicted=393.818483, expected=394.060000\n",
      "predicted=396.079931, expected=396.740000\n",
      "predicted=398.906879, expected=398.810000\n",
      "predicted=400.954010, expected=401.010000\n",
      "predicted=403.166532, expected=404.410000\n",
      "predicted=406.864654, expected=406.760000\n",
      "predicted=409.185583, expected=408.720000\n",
      "predicted=411.033008, expected=411.660000\n",
      "predicted=414.116248, expected=414.240000\n",
      "predicted=416.725954, expected=416.450000\n"
     ]
    }
   ],
   "source": [
    "predictions = []\n",
    "history = [x for x in train]\n",
    "for t in range(len(test)):\n",
    "    model = ARIMA(history, order=(0,2,1))\n",
    "    model = model.fit()\n",
    "    output = model.forecast()\n",
    "    yhat = output[0]\n",
    "    predictions.append(yhat)\n",
    "    obs = test[t]\n",
    "    history.append(obs)\n",
    "    print('predicted=%f, expected=%f' % (yhat, obs))"
   ]
  },
  {
   "cell_type": "code",
   "execution_count": 41,
   "id": "2a106ec8",
   "metadata": {},
   "outputs": [
    {
     "name": "stdout",
     "output_type": "stream",
     "text": [
      "Test RMSE: 0.493\n"
     ]
    }
   ],
   "source": [
    "from sklearn.metrics import mean_squared_error\n",
    "from math import sqrt\n",
    "rmse = sqrt(mean_squared_error(test, predictions))\n",
    "print('Test RMSE: %.3f' % rmse)"
   ]
  },
  {
   "cell_type": "code",
   "execution_count": 42,
   "id": "3c532145",
   "metadata": {
    "scrolled": true
   },
   "outputs": [
    {
     "data": {
      "text/plain": [
       "array([421.69786306, 424.18381742, 426.66977177, 429.15572612,\n",
       "       431.64168048, 434.12763483, 436.61358919, 439.09954354,\n",
       "       441.5854979 , 444.07145225, 446.5574066 , 449.04336096,\n",
       "       451.52931531, 454.01526967, 456.50122402, 458.98717837,\n",
       "       461.47313273, 463.95908708, 466.44504144, 468.93099579,\n",
       "       471.41695014, 473.9029045 , 476.38885885, 478.87481321,\n",
       "       481.36076756, 483.84672191, 486.33267627, 488.81863062,\n",
       "       491.30458498])"
      ]
     },
     "execution_count": 42,
     "metadata": {},
     "output_type": "execute_result"
    }
   ],
   "source": [
    "from statsmodels.tsa.arima.model import ARIMAResults\n",
    "model.predict(start=64, end=92)"
   ]
  },
  {
   "cell_type": "code",
   "execution_count": 43,
   "id": "a0fb9c09",
   "metadata": {},
   "outputs": [
    {
     "data": {
      "text/plain": [
       "<matplotlib.legend.Legend at 0x1d85f71d2e0>"
      ]
     },
     "execution_count": 43,
     "metadata": {},
     "output_type": "execute_result"
    },
    {
     "data": {
      "image/png": "[encoded data removed]",
      "text/plain": [
       "<Figure size 432x288 with 1 Axes>"
      ]
     },
     "metadata": {
      "needs_background": "light"
     },
     "output_type": "display_data"
    }
   ],
   "source": [
    "plt.plot(range(1958,2021), df['PPM'], c='blue', label='raw data')\n",
    "plt.plot(range(1959,2021), model.predict(start=2, end=63), c='red', ls='--', label='ARIMA model')\n",
    "plt.xlabel('Year')\n",
    "plt.ylabel('carbon dioxide concentration levels (PPM)')\n",
    "plt.legend()"
   ]
  },
  {
   "cell_type": "code",
   "execution_count": 44,
   "id": "f18628dc",
   "metadata": {},
   "outputs": [
    {
     "data": {
      "text/plain": [
       "685.2090245959135"
      ]
     },
     "execution_count": 44,
     "metadata": {},
     "output_type": "execute_result"
    }
   ],
   "source": [
    "OrgYear = 2127\n",
    "a = OrgYear - 1957\n",
    "predict = model.predict(start=92, end=a)   #Year 2130\n",
    "predict[-1]"
   ]
  }
 ],
 "metadata": {
  "kernelspec": {
   "display_name": "Python 3 (ipykernel)",
   "language": "python",
   "name": "python3"
  },
  "language_info": {
   "codemirror_mode": {
    "name": "ipython",
    "version": 3
   },
   "file_extension": ".py",
   "mimetype": "text/x-python",
   "name": "python",
   "nbconvert_exporter": "python",
   "pygments_lexer": "ipython3",
   "version": "3.9.12"
  }
 },
 "nbformat": 4,
 "nbformat_minor": 5
}
